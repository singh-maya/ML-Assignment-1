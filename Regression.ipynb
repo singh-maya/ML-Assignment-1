{
 "cells": [
  {
   "cell_type": "code",
   "execution_count": 45,
   "metadata": {},
   "outputs": [],
   "source": [
    "import pandas as pd\n",
    "import numpy as np\n",
    "import matplotlib.pyplot as plt\n",
    "import seaborn as sns\n",
    "from sklearn.preprocessing import LabelEncoder\n",
    "import statsmodels.api as sm\n",
    "from sklearn.linear_model import LinearRegression\n",
    "from sklearn.model_selection import train_test_split\n",
    "from sklearn.preprocessing import PolynomialFeatures\n",
    "from sklearn.metrics import r2_score, mean_squared_error\n",
    "\n"
   ]
  },
  {
   "attachments": {},
   "cell_type": "markdown",
   "metadata": {},
   "source": [
    "<h1> Set up Data and Find Correlation </h1>"
   ]
  },
  {
   "cell_type": "code",
   "execution_count": 46,
   "metadata": {},
   "outputs": [
    {
     "data": {
      "text/plain": [
       "Intent_Error   -0.693675\n",
       "ASR_Error      -0.662405\n",
       "Duration       -0.006631\n",
       "Gender          0.111523\n",
       "Purchase        0.661931\n",
       "SUS             1.000000\n",
       "Name: SUS, dtype: float64"
      ]
     },
     "execution_count": 46,
     "metadata": {},
     "output_type": "execute_result"
    }
   ],
   "source": [
    "df = pd.read_csv(\"data.csv\")\n",
    "df.head(10)\n",
    "df = df.drop(df.columns[-1], axis=1) # drop the last column bc not part of dataset\n",
    "\n",
    "# determine if any values are missing\n",
    "df.isna().sum()\n",
    "df = df.fillna(0)\n",
    "\n",
    "# compute pair-wise correlations\n",
    "df.corr(method='pearson')['SUS'].sort_values()\n",
    "\n",
    "# strong correlation b/w SUS and Purchase"
   ]
  },
  {
   "attachments": {},
   "cell_type": "markdown",
   "metadata": {},
   "source": [
    "<h1> Find OLS Regression </h1>"
   ]
  },
  {
   "cell_type": "code",
   "execution_count": 47,
   "metadata": {},
   "outputs": [
    {
     "name": "stdout",
     "output_type": "stream",
     "text": [
      "                            OLS Regression Results                            \n",
      "==============================================================================\n",
      "Dep. Variable:                    SUS   R-squared:                       0.593\n",
      "Model:                            OLS   Adj. R-squared:                  0.571\n",
      "Method:                 Least Squares   F-statistic:                     27.39\n",
      "Date:                Tue, 14 Feb 2023   Prob (F-statistic):           5.25e-17\n",
      "Time:                        12:45:26   Log-Likelihood:                -362.39\n",
      "No. Observations:                 100   AIC:                             736.8\n",
      "Df Residuals:                      94   BIC:                             752.4\n",
      "Df Model:                           5                                         \n",
      "Covariance Type:            nonrobust                                         \n",
      "================================================================================\n",
      "                   coef    std err          t      P>|t|      [0.025      0.975]\n",
      "--------------------------------------------------------------------------------\n",
      "const           93.0282      5.541     16.788      0.000      82.026     104.031\n",
      "Purchase         1.3412      3.676      0.365      0.716      -5.958       8.641\n",
      "Duration        -0.0002      0.010     -0.025      0.980      -0.020       0.019\n",
      "Gender           0.8367      1.971      0.425      0.672      -3.076       4.749\n",
      "ASR_Error       -1.4254      0.401     -3.553      0.001      -2.222      -0.629\n",
      "Intent_Error    -2.0092      0.439     -4.572      0.000      -2.882      -1.137\n",
      "==============================================================================\n",
      "Omnibus:                        6.969   Durbin-Watson:                   2.023\n",
      "Prob(Omnibus):                  0.031   Jarque-Bera (JB):                8.115\n",
      "Skew:                          -0.378   Prob(JB):                       0.0173\n",
      "Kurtosis:                       4.173   Cond. No.                     1.27e+03\n",
      "==============================================================================\n",
      "\n",
      "Notes:\n",
      "[1] Standard Errors assume that the covariance matrix of the errors is correctly specified.\n",
      "[2] The condition number is large, 1.27e+03. This might indicate that there are\n",
      "strong multicollinearity or other numerical problems.\n"
     ]
    }
   ],
   "source": [
    "y = df['SUS']  # dependent variable\n",
    "x = df.drop(columns='SUS')  # predictor variables\n",
    "x = sm.add_constant(x)\n",
    "\n",
    "model = sm.OLS(y, x).fit()\n",
    "print(model.summary())\n"
   ]
  },
  {
   "attachments": {},
   "cell_type": "markdown",
   "metadata": {},
   "source": [
    "<h1> Find R Score </h1>"
   ]
  },
  {
   "cell_type": "code",
   "execution_count": 48,
   "metadata": {},
   "outputs": [
    {
     "name": "stdout",
     "output_type": "stream",
     "text": [
      "The R square score of linear regression model is:  0.6750354976964745\n",
      "The R square score of 2-order polynomial regression model is:  0.522049850343024\n"
     ]
    }
   ],
   "source": [
    "# regression analysis\n",
    "x = df.drop(columns='SUS')\n",
    "y = df['SUS']\n",
    "\n",
    "x_train, x_test, y_train, y_test = train_test_split(x, y)\n",
    "\n",
    "lr = LinearRegression().fit(x_train,y_train)\n",
    "\n",
    "y_train_pred = lr.predict(x_train)\n",
    "y_test_pred = lr.predict(x_test)\n",
    "\n",
    "print(\"The R square score of linear regression model is: \", lr.score(x_test,y_test))\n",
    "\n",
    "quad = PolynomialFeatures (degree = 2)\n",
    "x_quad = quad.fit_transform(x)\n",
    "\n",
    "X_train,X_test,Y_train,Y_test = train_test_split(x_quad,y, random_state = 0)\n",
    "\n",
    "plr = LinearRegression().fit(X_train,Y_train)\n",
    "\n",
    "Y_train_pred = plr.predict(X_train)\n",
    "Y_test_pred = plr.predict(X_test)\n",
    "\n",
    "print(\"The R square score of 2-order polynomial regression model is: \", plr.score(X_test,Y_test))"
   ]
  }
 ],
 "metadata": {
  "kernelspec": {
   "display_name": "Python 3 (ipykernel)",
   "language": "python",
   "name": "python3"
  },
  "language_info": {
   "codemirror_mode": {
    "name": "ipython",
    "version": 3
   },
   "file_extension": ".py",
   "mimetype": "text/x-python",
   "name": "python",
   "nbconvert_exporter": "python",
   "pygments_lexer": "ipython3",
   "version": "3.10.7"
  },
  "orig_nbformat": 4
 },
 "nbformat": 4,
 "nbformat_minor": 2
}
