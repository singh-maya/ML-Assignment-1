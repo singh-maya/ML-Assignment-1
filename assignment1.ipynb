{
 "cells": [
  {
   "cell_type": "code",
   "execution_count": null,
   "metadata": {},
   "outputs": [],
   "source": [
    "import pandas as pd\n",
    "import numpy as np\n",
    "import geopandas as gpd\n",
    "import matplotlib.pylab as plt\n",
    "from dataprep.clean import clean_country\n",
    "import pygal\n",
    "import folium"
   ]
  },
  {
   "cell_type": "code",
   "execution_count": null,
   "metadata": {},
   "outputs": [],
   "source": [
    "# merge the two csv files together into a data frame\n",
    "articleInfo = pd.read_csv(\"articleInfo.csv\")\n",
    "authorInfo = pd.read_csv(\"authorInfo.csv\")\n",
    "\n",
    "mergedInfo = pd.merge(articleInfo, authorInfo, \n",
    "                   on=\"Article No.\", \n",
    "                   how=\"inner\")\n",
    "mergedInfo.fillna(0)\n"
   ]
  },
  {
   "cell_type": "code",
   "execution_count": null,
   "metadata": {},
   "outputs": [],
   "source": [
    "# plot the yearly publication figure: x - axis = year, y -axis = # articles published during that year\n",
    "yearPub = mergedInfo.loc[:,\"Year\"].to_list() # TODO:see if it is from merged info or the single publication\n",
    "numArticles = {i:yearPub.count(i) for i in yearPub}\n",
    "\n",
    "lists = sorted(numArticles.items()) # sorted by key, return a list of tuples\n",
    "\n",
    "x, y = zip(*lists) # unpack a list of pairs into two tuples\n",
    "\n",
    "plt.xlabel('Year')\n",
    "plt.ylabel('Number of Articles Published')\n",
    "plt.title(\"yearly_publication\")\n",
    "\n",
    "plt.plot(x, y)\n",
    "plt.show()"
   ]
  },
  {
   "cell_type": "code",
   "execution_count": null,
   "metadata": {},
   "outputs": [],
   "source": [
    "# plot the yearly citation figure: x axis is the year and the y axis is the total # of citations in that year\n",
    "yearPub = mergedInfo.loc[:,\"Year\"].to_list()\n",
    "citations = mergedInfo.loc[:,\"Citation\"].to_list()\n",
    "\n",
    "# create new data frame with information we want\n",
    "temp = {\"Year\": yearPub, \"Citation\" : citations}\n",
    "newDF = pd.DataFrame(temp)\n",
    "\n",
    "# get the sum of the citations for each year and convert to dictionary\n",
    "citations = newDF.groupby('Year')['Citation'].sum().to_dict()\n",
    "x = citations.keys()\n",
    "y = citations.values()\n",
    "\n",
    "# plot the data\n",
    "plt.plot(x, y)\n",
    "plt.xlabel(\"Year\")\n",
    "plt.ylabel(\"Total No. of Citations\")\n",
    "plt.title(\"yearly_citation\")\n",
    "plt.show()\n"
   ]
  },
  {
   "cell_type": "code",
   "execution_count": null,
   "metadata": {},
   "outputs": [],
   "source": [
    "# plot the number of publications across countries\n",
    "countriesPB = mergedInfo.loc[:,\"Country\"].to_list()\n",
    "numCountries = {i:countriesPB.count(i) for i in countriesPB}\n",
    "\n",
    "keys = numCountries.keys()\n",
    "value = numCountries.values()\n",
    "\n",
    "df = pd.DataFrame({\"Countries\" : keys, \"Number of Publications\" : value})\n",
    "df = clean_country(df, \"Countries\",  input_format=(\"name\", \"official\", \"alpha-3\"))\n",
    "# get the alpha code for the country in order to make into map\n",
    "df = clean_country(df, \"Countries_clean\", output_format=\"alpha-3\")\n",
    "# if nan -> remove\n",
    "df = df.dropna()\n",
    "print(df)\n",
    "\n",
    "world = gpd.read_file(gpd.datasets.get_path('naturalearth_lowres'))\n",
    "cities = gpd.read_file(gpd.datasets.get_path('naturalearth_cities'))\n",
    "\n",
    "m = world.explore(\n",
    "     column=\"pop_est\",  # make choropleth based on \"BoroName\" column\n",
    "     scheme=\"naturalbreaks\",  # use mapclassify's natural breaks scheme\n",
    "     legend=True, # show legend\n",
    "     k=10, # use 10 bins\n",
    "     legend_kwds=dict(colorbar=False), # do not use colorbar\n",
    "     name=\"countries\" # name of the layer in the map\n",
    ")\n",
    "\n",
    "cities.explore(\n",
    "     m=m, # pass the map object\n",
    "     color=\"red\", # use red color on all points\n",
    "     marker_kwds=dict(radius=10, fill=True), # make marker radius 10px with fill\n",
    "     tooltip=\"name\", # show \"name\" column in the tooltip\n",
    "     tooltip_kwds=dict(labels=False), # do not show column label in the tooltip\n",
    "     name=\"cities\" # name of the layer in the map\n",
    ")\n",
    "\n",
    "folium.TileLayer('Stamen Toner', control=True).add_to(m)  # use folium to add alternative tiles\n",
    "folium.LayerControl().add_to(m)  # use folium to add layer control\n",
    "\n",
    "m  # show map\n",
    "  \n"
   ]
  }
 ],
 "metadata": {
  "kernelspec": {
   "display_name": "Python 3 (ipykernel)",
   "language": "python",
   "name": "python3"
  },
  "language_info": {
   "codemirror_mode": {
    "name": "ipython",
    "version": 3
   },
   "file_extension": ".py",
   "mimetype": "text/x-python",
   "name": "python",
   "nbconvert_exporter": "python",
   "pygments_lexer": "ipython3",
   "version": "3.9.16"
  },
  "orig_nbformat": 4,
  "vscode": {
   "interpreter": {
    "hash": "5adc8affd61dfdde788fb86faed1c308b9db0901cd02a82b6a1fa6cd7dbe5f33"
   }
  }
 },
 "nbformat": 4,
 "nbformat_minor": 2
}
